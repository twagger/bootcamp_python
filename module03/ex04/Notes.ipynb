{
 "cells": [
  {
   "cell_type": "markdown",
   "id": "6c1cf849",
   "metadata": {},
   "source": [
    "## Consignes"
   ]
  },
  {
   "cell_type": "markdown",
   "id": "c963ba1e",
   "metadata": {},
   "source": [
    "The data we have to process is composed of 3 values :\n",
    "- height,\n",
    "- weight,\n",
    "- bone_density"
   ]
  },
  {
   "cell_type": "markdown",
   "id": "098e43b9",
   "metadata": {},
   "source": [
    "__Problem__ : compute the distance between 2 data points\n",
    "- Each data point is a vector of 3 values.\n",
    "\n",
    "__Possibilities__ \n",
    "- L1 distance, <- *recommanded as it is the easiest*\n",
    "- L2 distance,\n",
    "- cosine similarity,\n",
    "- and so forth, ...\n",
    "\n",
    "Choosing the distance to use is called __hyperparameter tuning__"
   ]
  },
  {
   "cell_type": "markdown",
   "id": "d8c3bf0a",
   "metadata": {},
   "source": [
    "## Recheche d'infos"
   ]
  },
  {
   "cell_type": "markdown",
   "id": "2151ad17",
   "metadata": {},
   "source": [
    "__Norme du vecteur__ : Longueur du vecteur ou distance entre ses deux extremités"
   ]
  },
  {
   "cell_type": "markdown",
   "id": "55256cd6",
   "metadata": {},
   "source": [
    "__Distance A - B avec A et B étant des points à 3 dimensions__ :\n",
    "\n",
    "<u>2 points A et B:</u>\n",
    "\n",
    "A = [3, 2, -5]\n",
    "\n",
    "B = [4, -3, 1]\n",
    "\n",
    "<u>Vecteurs $\\vec{0A}$ et $\\vec{0B}$:</u>\n",
    "\n",
    "$\\vec{0A}$ = \n",
    "$\n",
    "\\left[\n",
    "\\begin{array}{ll} 3 \\\\ 2 \\\\ -5 \\end{array}\n",
    "\\right]\n",
    "$\n",
    "\n",
    "$\\vec{0B}$ = \n",
    "$\n",
    "\\left[\n",
    "\\begin{array}{ll} 4 \\\\ -3 \\\\ 1 \\end{array}\n",
    "\\right]\n",
    "$\n",
    "\n",
    "<u>Vecteur $\\vec{AB}$:</u>\n",
    "\n",
    "Formule: $\\vec{AB}$ = ($x_{b}$ - $x_{a}$, $y_{b}$ - $y_{a}$, $z_{b}$ - $z_{a}$)\n",
    "\n",
    "$\\vec{AB}$ = \n",
    "$\n",
    "\\left[\n",
    "\\begin{array}{ll} 1 \\\\ -5 \\\\ 6 \\end{array}\n",
    "\\right]\n",
    "$\n",
    "\n",
    "<u>Norme |$\\vec{AB}$|:</u>\n",
    "\n",
    "|$\\vec{AB}$| = $\\sqrt{1^2 + (-5)^2 + 6^2}$ = $\\sqrt{1 + 25 + 36}$ = $\\sqrt{62}$ = 7.874007874"
   ]
  },
  {
   "cell_type": "markdown",
   "id": "f5c18509",
   "metadata": {},
   "source": [
    "__numpy.linalg__ permet de calculer la norme d'un vecteur formé par deux points :\n",
    "\n",
    "```python3\n",
    "np.linalg.norm(centroid - data_point)\n",
    "```"
   ]
  },
  {
   "cell_type": "markdown",
   "id": "d468c44f",
   "metadata": {},
   "source": [
    "## Etapes K-means"
   ]
  },
  {
   "cell_type": "markdown",
   "id": "b0b901cc",
   "metadata": {},
   "source": [
    "1 - Selectionner __n__ centroids parmis le dataset\n",
    "\n",
    "2 - Associer chaque ligne du dataset avec un centroid en mesurant la distance entre le point et chaque centroid\n",
    "\n",
    "3 - Calculer les coordonnées moyennes (x, y, z) pour chaque groupe de point (cluster) associés a un même centroid\n",
    "\n",
    "4 - Modifier les coordonnées de chaque centroid avec les coordonnées calculées par la moyenne des points\n",
    "\n",
    "5 - S'il y a eu des changements entre les anciennes et les nouvelles coordonnées, et que le nombre max d'itérations n'est pas encore atteind, relancer une boucle à partir de l'étape 2 avec les nouvelles coordonnées"
   ]
  },
  {
   "cell_type": "markdown",
   "id": "722f0e6c",
   "metadata": {},
   "source": [
    "## Choisir le bon clustering"
   ]
  },
  {
   "cell_type": "markdown",
   "id": "08943c7f",
   "metadata": {},
   "source": [
    "Il faut souvent __lancer plusieurs__ fois le K-means pour obtenir les meilleurs centroïds.\n",
    "Le choix des meilleurs centroïds peut se faire en comparant la __somme quadratique des erreurs__ (SSE) pour chaque lot de centroïds renvoyé par K-means.\n",
    "\n",
    "Une __erreur__ est la différence entre les coordonnées de chaque point et les coordonnées du centroïd auquel il est associé.\n",
    "\n",
    "__Formule de calcul SSE:__\n",
    "\n",
    "$\\sum_{i=0}^{N} (dataX_i - centroidX_i)^2 + (dataY_i - centroidY_i)^2 + (dataZ_i - centroidZ_i)^2$\n",
    "\n",
    "Le clustering (tableau des centroïds) avec la valeur de distorsion (SSE) la plus basse peut être choisi comme le meilleur clustering."
   ]
  }
 ],
 "metadata": {
  "kernelspec": {
   "display_name": "Python 3 (ipykernel)",
   "language": "python",
   "name": "python3"
  },
  "language_info": {
   "codemirror_mode": {
    "name": "ipython",
    "version": 3
   },
   "file_extension": ".py",
   "mimetype": "text/x-python",
   "name": "python",
   "nbconvert_exporter": "python",
   "pygments_lexer": "ipython3",
   "version": "3.7.15"
  }
 },
 "nbformat": 4,
 "nbformat_minor": 5
}
